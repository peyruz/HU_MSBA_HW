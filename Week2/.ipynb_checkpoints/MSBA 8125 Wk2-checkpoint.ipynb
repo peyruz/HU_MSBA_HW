{
 "cells": [
  {
   "cell_type": "code",
   "execution_count": null,
   "id": "08c920d9",
   "metadata": {},
   "outputs": [],
   "source": [
    "import pandas as pd\n",
    "from matplotlib import pyplot as plt\n",
    "%matplotlib inline\n",
    "\n",
    "data = pd.read_csv('CapitalBikeshareData.csv')\n"
   ]
  },
  {
   "cell_type": "markdown",
   "id": "cb00e050",
   "metadata": {},
   "source": [
    "### 1. Present a table that shows basic descriptive statistics for the duration of trips and the type of rider (member vs. casual).  For duration, the table should at least include information on the mean, standard deviation, minimum, maximum, and 25th and 75th percentiles of trip length.  For the type of rider, the table should indicate the proportion of rides taken by members and non-members."
   ]
  },
  {
   "cell_type": "code",
   "execution_count": 4,
   "id": "dfb64024",
   "metadata": {},
   "outputs": [
    {
     "data": {
      "text/html": [
       "<div>\n",
       "<style scoped>\n",
       "    .dataframe tbody tr th:only-of-type {\n",
       "        vertical-align: middle;\n",
       "    }\n",
       "\n",
       "    .dataframe tbody tr th {\n",
       "        vertical-align: top;\n",
       "    }\n",
       "\n",
       "    .dataframe thead tr th {\n",
       "        text-align: left;\n",
       "    }\n",
       "</style>\n",
       "<table border=\"1\" class=\"dataframe\">\n",
       "  <thead>\n",
       "    <tr>\n",
       "      <th></th>\n",
       "      <th colspan=\"2\" halign=\"left\">Duration</th>\n",
       "    </tr>\n",
       "    <tr>\n",
       "      <th></th>\n",
       "      <th>Member</th>\n",
       "      <th>Casual</th>\n",
       "    </tr>\n",
       "  </thead>\n",
       "  <tbody>\n",
       "    <tr>\n",
       "      <th>count</th>\n",
       "      <td>289397.000000</td>\n",
       "      <td>53624.000000</td>\n",
       "    </tr>\n",
       "    <tr>\n",
       "      <th>mean</th>\n",
       "      <td>828.707996</td>\n",
       "      <td>2253.922684</td>\n",
       "    </tr>\n",
       "    <tr>\n",
       "      <th>std</th>\n",
       "      <td>1537.734025</td>\n",
       "      <td>3379.853058</td>\n",
       "    </tr>\n",
       "    <tr>\n",
       "      <th>min</th>\n",
       "      <td>60.000000</td>\n",
       "      <td>60.000000</td>\n",
       "    </tr>\n",
       "    <tr>\n",
       "      <th>25%</th>\n",
       "      <td>358.000000</td>\n",
       "      <td>841.000000</td>\n",
       "    </tr>\n",
       "    <tr>\n",
       "      <th>50%</th>\n",
       "      <td>596.000000</td>\n",
       "      <td>1392.000000</td>\n",
       "    </tr>\n",
       "    <tr>\n",
       "      <th>75%</th>\n",
       "      <td>971.000000</td>\n",
       "      <td>2432.250000</td>\n",
       "    </tr>\n",
       "    <tr>\n",
       "      <th>max</th>\n",
       "      <td>85467.000000</td>\n",
       "      <td>85537.000000</td>\n",
       "    </tr>\n",
       "  </tbody>\n",
       "</table>\n",
       "</div>"
      ],
      "text/plain": [
       "            Duration              \n",
       "              Member        Casual\n",
       "count  289397.000000  53624.000000\n",
       "mean      828.707996   2253.922684\n",
       "std      1537.734025   3379.853058\n",
       "min        60.000000     60.000000\n",
       "25%       358.000000    841.000000\n",
       "50%       596.000000   1392.000000\n",
       "75%       971.000000   2432.250000\n",
       "max     85467.000000  85537.000000"
      ]
     },
     "execution_count": 4,
     "metadata": {},
     "output_type": "execute_result"
    }
   ],
   "source": [
    "# 1 \n",
    "# Duration statistics summary\n",
    "df_m = data.loc[data['Member type'] == 'Member'].describe()['Duration']\n",
    "df_c = data.loc[data['Member type'] == 'Casual'].describe()['Duration']\n",
    "\n",
    "df_m = pd.DataFrame(df_m).rename(columns={'Duration': 'Member'})\n",
    "df_c = pd.DataFrame(df_c).rename(columns={'Duration': 'Casual'})\n",
    "\n",
    "df_desc = df_m.join(df_c)\n",
    "\n",
    "df_desc.columns = pd.MultiIndex.from_product([['Duration'], df_desc.columns])\n",
    "\n",
    "df_desc"
   ]
  },
  {
   "cell_type": "code",
   "execution_count": 6,
   "id": "26c4d004",
   "metadata": {},
   "outputs": [
    {
     "data": {
      "text/plain": [
       "Member    0.843671\n",
       "Casual    0.156329\n",
       "Name: count, dtype: float64"
      ]
     },
     "execution_count": 6,
     "metadata": {},
     "output_type": "execute_result"
    }
   ],
   "source": [
    "# Ride proportion by rider\n",
    "df_desc.loc['count',:]/len(data)"
   ]
  },
  {
   "cell_type": "code",
   "execution_count": 40,
   "id": "784ceb2e",
   "metadata": {},
   "outputs": [
    {
     "data": {
      "text/plain": [
       "Text(0.5, 1.0, 'Proportion of rides by Member type')"
      ]
     },
     "execution_count": 40,
     "metadata": {},
     "output_type": "execute_result"
    },
    {
     "data": {
      "image/png": "[encoded data removed]",
      "text/plain": [
       "<Figure size 432x288 with 1 Axes>"
      ]
     },
     "metadata": {},
     "output_type": "display_data"
    }
   ],
   "source": [
    "# Pie chart by breakdown rider\n",
    "df_desc.columns = ['Member', 'Casual']\n",
    "ax_pie = df_desc.loc['count', :].plot.pie()\n",
    "ax_pie.set_title('Proportion of rides by Member type')"
   ]
  },
  {
   "cell_type": "markdown",
   "id": "c5988afa",
   "metadata": {},
   "source": [
    "### 2. Look at the information in your descriptive statistics for duration.  Present a simple histogram that shows the distribution of duration.  What do you notice about the distribution of ride lengths?"
   ]
  },
  {
   "cell_type": "code",
   "execution_count": 36,
   "id": "b4c6f241",
   "metadata": {},
   "outputs": [
    {
     "data": {
      "text/plain": [
       "Text(0.5, 1.0, 'Histogram of ride durations')"
      ]
     },
     "execution_count": 36,
     "metadata": {},
     "output_type": "execute_result"
    },
    {
     "data": {
      "image/png": "[encoded data removed]",
      "text/plain": [
       "<Figure size 432x288 with 1 Axes>"
      ]
     },
     "metadata": {
      "needs_background": "light"
     },
     "output_type": "display_data"
    }
   ],
   "source": [
    "# 2\n",
    "ax_dur_hist = data['Duration'].plot.hist(bins=1000)\n",
    "ax_dur_hist.set_title('Histogram of ride durations')"
   ]
  },
  {
   "cell_type": "markdown",
   "id": "16795805",
   "metadata": {},
   "source": [
    "We can see how because of the outliers, most of the data occupy a small portion of the bins."
   ]
  },
  {
   "cell_type": "markdown",
   "id": "6bc57767",
   "metadata": {},
   "source": [
    "### 3. Create a new dataset that keeps only those rides with a duration less than or equal to 10,000 seconds (approximately 2.75 hours).  Reexamine the descriptive statistics for the duration variable and present the table (with the same variables as the first table) and histogram of duration for the subsetted data.  For the remainder of the analysis, use only this subsetted data."
   ]
  },
  {
   "cell_type": "code",
   "execution_count": 10,
   "id": "0a31ffe0",
   "metadata": {},
   "outputs": [
    {
     "data": {
      "text/html": [
       "<div>\n",
       "<style scoped>\n",
       "    .dataframe tbody tr th:only-of-type {\n",
       "        vertical-align: middle;\n",
       "    }\n",
       "\n",
       "    .dataframe tbody tr th {\n",
       "        vertical-align: top;\n",
       "    }\n",
       "\n",
       "    .dataframe thead tr th {\n",
       "        text-align: left;\n",
       "    }\n",
       "</style>\n",
       "<table border=\"1\" class=\"dataframe\">\n",
       "  <thead>\n",
       "    <tr>\n",
       "      <th></th>\n",
       "      <th colspan=\"2\" halign=\"left\">Duration</th>\n",
       "    </tr>\n",
       "    <tr>\n",
       "      <th></th>\n",
       "      <th>Member</th>\n",
       "      <th>Casual</th>\n",
       "    </tr>\n",
       "  </thead>\n",
       "  <tbody>\n",
       "    <tr>\n",
       "      <th>count</th>\n",
       "      <td>288677.000000</td>\n",
       "      <td>52673.000000</td>\n",
       "    </tr>\n",
       "    <tr>\n",
       "      <th>mean</th>\n",
       "      <td>775.903006</td>\n",
       "      <td>1970.771344</td>\n",
       "    </tr>\n",
       "    <tr>\n",
       "      <th>std</th>\n",
       "      <td>744.406463</td>\n",
       "      <td>1801.624316</td>\n",
       "    </tr>\n",
       "    <tr>\n",
       "      <th>min</th>\n",
       "      <td>60.000000</td>\n",
       "      <td>60.000000</td>\n",
       "    </tr>\n",
       "    <tr>\n",
       "      <th>25%</th>\n",
       "      <td>358.000000</td>\n",
       "      <td>831.000000</td>\n",
       "    </tr>\n",
       "    <tr>\n",
       "      <th>50%</th>\n",
       "      <td>594.000000</td>\n",
       "      <td>1373.000000</td>\n",
       "    </tr>\n",
       "    <tr>\n",
       "      <th>75%</th>\n",
       "      <td>967.000000</td>\n",
       "      <td>2305.000000</td>\n",
       "    </tr>\n",
       "    <tr>\n",
       "      <th>max</th>\n",
       "      <td>9996.000000</td>\n",
       "      <td>9999.000000</td>\n",
       "    </tr>\n",
       "  </tbody>\n",
       "</table>\n",
       "</div>"
      ],
      "text/plain": [
       "            Duration              \n",
       "              Member        Casual\n",
       "count  288677.000000  52673.000000\n",
       "mean      775.903006   1970.771344\n",
       "std       744.406463   1801.624316\n",
       "min        60.000000     60.000000\n",
       "25%       358.000000    831.000000\n",
       "50%       594.000000   1373.000000\n",
       "75%       967.000000   2305.000000\n",
       "max      9996.000000   9999.000000"
      ]
     },
     "execution_count": 10,
     "metadata": {},
     "output_type": "execute_result"
    }
   ],
   "source": [
    "# 3 \n",
    "data_crop = data.loc[data['Duration']<10000]\n",
    "df_m = data_crop.loc[data_crop['Member type'] == 'Member'].describe()['Duration']\n",
    "df_c = data_crop.loc[data_crop['Member type'] == 'Casual'].describe()['Duration']\n",
    "df_m = pd.DataFrame(df_m).rename(columns={'Duration': 'Member'})\n",
    "df_c = pd.DataFrame(df_c).rename(columns={'Duration': 'Casual'})\n",
    "df_desc_crop = df_m.join(df_c)\n",
    "df_desc_crop.columns = pd.MultiIndex.from_product([['Duration'], df_desc_crop.columns])\n",
    "df_desc_crop"
   ]
  },
  {
   "cell_type": "code",
   "execution_count": 38,
   "id": "93385968",
   "metadata": {},
   "outputs": [
    {
     "data": {
      "text/plain": [
       "Text(0.5, 1.0, 'Histogram of ride durations (cropped)')"
      ]
     },
     "execution_count": 38,
     "metadata": {},
     "output_type": "execute_result"
    },
    {
     "data": {
      "image/png": "[encoded data removed]",
      "text/plain": [
       "<Figure size 432x288 with 1 Axes>"
      ]
     },
     "metadata": {
      "needs_background": "light"
     },
     "output_type": "display_data"
    }
   ],
   "source": [
    "ax_dur_hist_c = data_crop['Duration'].plot.hist(bins=100)\n",
    "ax_dur_hist_c.set_title('Histogram of ride durations (cropped)')"
   ]
  },
  {
   "cell_type": "markdown",
   "id": "e69a4234",
   "metadata": {},
   "source": [
    "### 4. Examine the mean of duration separately for members and casual riders using a barplot.  What do you notice about how these riders use the bikeshare program?"
   ]
  },
  {
   "cell_type": "code",
   "execution_count": 39,
   "id": "656affea",
   "metadata": {},
   "outputs": [
    {
     "data": {
      "text/plain": [
       "Text(0.5, 1.0, 'Mena ride duration by Member type (cropped)')"
      ]
     },
     "execution_count": 39,
     "metadata": {},
     "output_type": "execute_result"
    },
    {
     "data": {
      "image/png": "[encoded data removed]",
      "text/plain": [
       "<Figure size 432x288 with 1 Axes>"
      ]
     },
     "metadata": {
      "needs_background": "light"
     },
     "output_type": "display_data"
    }
   ],
   "source": [
    "#4\n",
    "df_desc_crop.columns = ['Member', 'Casual']\n",
    "ax_mean_dur_c = df_desc_crop.loc['mean', :].plot.bar()\n",
    "ax_mean_dur_c.set_title('Mena ride duration by Member type (cropped)')"
   ]
  },
  {
   "cell_type": "markdown",
   "id": "ef2a2437",
   "metadata": {},
   "source": [
    "### 5. Build a dataframe that counts the number of trips that originate from each station. Display the distribution of origin counts in a histogram.  What do you notice?"
   ]
  },
  {
   "cell_type": "code",
   "execution_count": 13,
   "id": "5e5e94f7",
   "metadata": {
    "scrolled": true
   },
   "outputs": [
    {
     "data": {
      "text/plain": [
       "Columbus Circle / Union Station                6578\n",
       "Lincoln Memorial                               4234\n",
       "Massachusetts Ave & Dupont Circle NW           3855\n",
       "Henry Bacon Dr & Lincoln Memorial Circle NW    3786\n",
       "15th & P St NW                                 3690\n",
       "                                               ... \n",
       "Mississippi Ave & 19th St SE / THEARC             4\n",
       "Broschart & Blackwell Rd                          3\n",
       "Livingston Rd & 3rd St SE                         2\n",
       "19th & Savannah St SE                             1\n",
       "Traville Gateway Dr & Gudelsky Dr                 1\n",
       "Name: Start station, Length: 518, dtype: int64"
      ]
     },
     "execution_count": 13,
     "metadata": {},
     "output_type": "execute_result"
    }
   ],
   "source": [
    "#5\n",
    "data_crop['Start station'].value_counts()"
   ]
  },
  {
   "cell_type": "code",
   "execution_count": 14,
   "id": "762f2989",
   "metadata": {},
   "outputs": [
    {
     "data": {
      "text/plain": [
       "<AxesSubplot:ylabel='Frequency'>"
      ]
     },
     "execution_count": 14,
     "metadata": {},
     "output_type": "execute_result"
    },
    {
     "data": {
      "image/png": "[encoded data removed]",
      "text/plain": [
       "<Figure size 432x288 with 1 Axes>"
      ]
     },
     "metadata": {
      "needs_background": "light"
     },
     "output_type": "display_data"
    }
   ],
   "source": [
    "data_crop['Start station'].value_counts().plot.hist()"
   ]
  },
  {
   "cell_type": "markdown",
   "id": "9655196a",
   "metadata": {},
   "source": [
    "I would make a guess that the traffic is well spread out geographically. People may be using bikes to get to ride to work in downtown D.C. forming radial trajectories, if not right to the city center, then to the closest subway stations and bus stops. This hypothesis could be evaluated by examining travel times of day (see Bonus) and seeing how much those correlate with work schedules. Since we see a lot of casual members, a portion of those could be tourists in the city. This could explain why Lincoln Memorial is one of the top stations. The other top stations could possibly be correlated to subway stations. "
   ]
  },
  {
   "cell_type": "markdown",
   "id": "f8c007a5",
   "metadata": {},
   "source": [
    "### 6. Subset the data to retain and report on the 25 most popular stations to pick up a bike.  Reattach the names of the stations and create a table with the station number, station name, and number of originating trips from the October 2018 data."
   ]
  },
  {
   "cell_type": "code",
   "execution_count": 41,
   "id": "d089b8c3",
   "metadata": {},
   "outputs": [
    {
     "data": {
      "text/plain": [
       "Start station number  Start station                                        \n",
       "31623                 Columbus Circle / Union Station                          6578\n",
       "31258                 Lincoln Memorial                                         4234\n",
       "31200                 Massachusetts Ave & Dupont Circle NW                     3855\n",
       "31289                 Henry Bacon Dr & Lincoln Memorial Circle NW              3786\n",
       "31201                 15th & P St NW                                           3690\n",
       "31247                 Jefferson Dr & 14th St SW                                3683\n",
       "31288                 4th St & Madison Dr NW                                   3519\n",
       "31229                 New Hampshire Ave & T St NW                              3245\n",
       "31248                 Smithsonian-National Mall / Jefferson Dr & 12th St SW    3143\n",
       "31613                 Eastern Market Metro / Pennsylvania Ave & 7th St SE      3090\n",
       "31603                 1st & M St NE                                            2978\n",
       "31124                 14th & Irving St NW                                      2958\n",
       "31249                 Jefferson Memorial                                       2748\n",
       "31624                 North Capitol St & F St NW                               2676\n",
       "31101                 14th & V St NW                                           2637\n",
       "31228                 8th & H St NW                                            2605\n",
       "31203                 14th & Rhode Island Ave NW                               2534\n",
       "31600                 5th & K St NW                                            2457\n",
       "31321                 15th St & Constitution Ave NW                            2451\n",
       "31281                 8th & O St NW                                            2443\n",
       "31266                 11th & M St NW                                           2432\n",
       "31214                 17th & Corcoran St NW                                    2399\n",
       "31241                 Thomas Circle                                            2391\n",
       "31267                 17th St & Massachusetts Ave NW                           2319\n",
       "31202                 14th & R St NW                                           2289\n",
       "dtype: int64"
      ]
     },
     "execution_count": 41,
     "metadata": {},
     "output_type": "execute_result"
    }
   ],
   "source": [
    "#6\n",
    "data_crop[['Start station number', 'Start station']].value_counts().iloc[:25]"
   ]
  },
  {
   "cell_type": "markdown",
   "id": "44fdedf1",
   "metadata": {},
   "source": [
    "### Bonus - examining the hypothesis from question 5 "
   ]
  },
  {
   "cell_type": "code",
   "execution_count": 47,
   "id": "02ac3acf",
   "metadata": {
    "scrolled": true
   },
   "outputs": [
    {
     "data": {
      "text/plain": [
       "Text(0.5, 1.05, 'Distribution of ride starts by hour of day')"
      ]
     },
     "execution_count": 47,
     "metadata": {},
     "output_type": "execute_result"
    },
    {
     "data": {
      "image/png": "[encoded data removed]",
      "text/plain": [
       "<Figure size 432x288 with 2 Axes>"
      ]
     },
     "metadata": {
      "needs_background": "light"
     },
     "output_type": "display_data"
    }
   ],
   "source": [
    "# Bonus\n",
    "data_crop['Start hour'] = pd.to_datetime(data_crop['Start date']).apply(lambda x: x.hour)\n",
    "fig, ax = plt.subplots(2)\n",
    "data_crop[data_crop['Member type'] == 'Casual']['Start hour'].value_counts().sort_index().plot.bar(ax=ax[0])\n",
    "data_crop[data_crop['Member type'] == 'Member']['Start hour'].value_counts().sort_index().plot.bar(ax=ax[1])\n",
    "ax[0].set_title('Casual')\n",
    "ax[1].set_title('Member')\n",
    "fig.subplots_adjust(hspace=1)\n",
    "fig.suptitle('Distribution of ride starts by hour of day', fontsize=16, y=1.05)"
   ]
  },
  {
   "cell_type": "markdown",
   "id": "b50874b6",
   "metadata": {},
   "source": [
    "We can see how the riding habits of Casual and Member riders differ. We can see a bimodal distribution for Member and a unimodal for Casual riders. The two humps for the Members are located at typical times for commuting to and from work. The hour pattern adds to the evidence that Members are more likely use the bikes to commute to work, whereas Casual riders are likely tourists for whom it may not be wise to commit to a long-term membership.\n",
    "\n",
    "Additional investigation into this could be done by analyzing locations closer. Since we are not given GPS coordinates, this would require geocoding though an API such as the one of Mapbox. "
   ]
  }
 ],
 "metadata": {
  "kernelspec": {
   "display_name": "Python 3",
   "language": "python",
   "name": "python3"
  },
  "language_info": {
   "codemirror_mode": {
    "name": "ipython",
    "version": 3
   },
   "file_extension": ".py",
   "mimetype": "text/x-python",
   "name": "python",
   "nbconvert_exporter": "python",
   "pygments_lexer": "ipython3",
   "version": "3.8.8"
  }
 },
 "nbformat": 4,
 "nbformat_minor": 5
}
